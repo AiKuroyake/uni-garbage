{
 "cells": [
  {
   "cell_type": "markdown",
   "metadata": {},
   "source": [
    "## Ex 3: Cleaning the data"
   ]
  },
  {
   "cell_type": "markdown",
   "metadata": {},
   "source": [
    "2p\n",
    "\n",
    "In the 2-gram list above, we see lots of uninformative bigrams where the other member is a special character. One common preprocessing step in NLP is to clean the data. There isn't a perfect way to clean the data, since every project finds a bit different features of data irrelevant. For example, some projects may want to keep numbers in their data and some not. \n",
    "\n",
    "a) Clean the variable `all_summaries` from numbers and special characters (keep spaces), and save it to a new variable `all_summaries_cleaned`. There are many ways to do this. For example, you can iterate over every character of the string and check if the character is alphabet or space. Or then you can use regular expressions. Google and read about the options! Some useful resources [here](https://www.kite.com/python/answers/how-to-remove-special-characters-from-a-string-in-python) and [here](https://stackoverflow.com/questions/5843518/remove-all-special-characters-punctuation-and-spaces-from-string). "
   ]
  },
  {
   "cell_type": "code",
   "execution_count": 7,
   "metadata": {},
   "outputs": [
    {
     "name": "stdout",
     "output_type": "stream",
     "text": [
      "\n"
     ]
    }
   ],
   "source": [
    "all_summaries_cleaned = \"\"\n",
    "\n",
    "# write cleaning algorithm here\n",
    "\n",
    "print(all_summaries_cleaned)"
   ]
  },
  {
   "cell_type": "markdown",
   "metadata": {},
   "source": [
    "b) Which problem or problems still exist in the data? "
   ]
  },
  {
   "cell_type": "markdown",
   "metadata": {},
   "source": [
    "## Ex4: Reading different types of files "
   ]
  },
  {
   "cell_type": "markdown",
   "metadata": {},
   "source": [
    "3p\n",
    "\n",
    "In this exercise we will practice reading different file types. Usually in digital humanities projects, the data can be in any form and researchers should be able to read and handle multiple data types. \n",
    "\n",
    "a) Take a look to [Kafka's Metamorphosis HTML page](https://www.gutenberg.org/files/5200/5200-h/5200-h.htm) and install [BeautifulSoup](https://beautiful-soup-4.readthedocs.io/en/latest/), a common library for reading and manipulating HTML data. \n",
    "\n",
    "b) Download Metamorphosis -file and create a BeautifulSoup -object from it (section 'Quick Start'). "
   ]
  },
  {
   "cell_type": "code",
   "execution_count": 8,
   "metadata": {},
   "outputs": [
    {
     "ename": "NameError",
     "evalue": "name 'soup' is not defined",
     "output_type": "error",
     "traceback": [
      "\u001b[0;31m---------------------------------------------------------------------------\u001b[0m",
      "\u001b[0;31mNameError\u001b[0m                                 Traceback (most recent call last)",
      "\u001b[0;32m<ipython-input-8-5e981e339e79>\u001b[0m in \u001b[0;36m<module>\u001b[0;34m\u001b[0m\n\u001b[1;32m      3\u001b[0m \u001b[0;31m# write code here\u001b[0m\u001b[0;34m\u001b[0m\u001b[0;34m\u001b[0m\u001b[0;34m\u001b[0m\u001b[0m\n\u001b[1;32m      4\u001b[0m \u001b[0;34m\u001b[0m\u001b[0m\n\u001b[0;32m----> 5\u001b[0;31m \u001b[0mprint\u001b[0m\u001b[0;34m(\u001b[0m\u001b[0msoup\u001b[0m\u001b[0;34m.\u001b[0m\u001b[0mprettify\u001b[0m\u001b[0;34m(\u001b[0m\u001b[0;34m)\u001b[0m\u001b[0;34m)\u001b[0m\u001b[0;34m\u001b[0m\u001b[0;34m\u001b[0m\u001b[0m\n\u001b[0m",
      "\u001b[0;31mNameError\u001b[0m: name 'soup' is not defined"
     ]
    }
   ],
   "source": [
    "from bs4 import BeautifulSoup\n",
    "\n",
    "# write code here\n",
    "\n",
    "print(soup.prettify())"
   ]
  },
  {
   "cell_type": "markdown",
   "metadata": {},
   "source": [
    "c) Print only the text with function `soup.get_text()`"
   ]
  },
  {
   "cell_type": "code",
   "execution_count": null,
   "metadata": {},
   "outputs": [],
   "source": []
  },
  {
   "cell_type": "markdown",
   "metadata": {},
   "source": [
    "d) Implement a preprocessing algorithm for the text you printed above. You should first think about what is irrelevant information for you in the text. In this exercise there is no right or wrong answer, because the final purpose of preprocessing isn't clear either. You can name a purpose of the preprocessing (for example, 'I want to calculate bag-of-words presentation of the text'), and justify your preprocessing decisions on the bottom of it. \n",
    "\n",
    "Code the preprocessing of the text and justify your decisions with code comments (# Comment). "
   ]
  },
  {
   "cell_type": "code",
   "execution_count": null,
   "metadata": {},
   "outputs": [],
   "source": []
  },
  {
   "cell_type": "markdown",
   "metadata": {},
   "source": [
    "e) Install a package called [pdftotext](https://pypi.org/project/pdftotext/). There are many libraries for pdf extraction and possibly you will use other libraries later in your career. \n",
    "\n",
    "Download a research article by Matres, Oiva and Tolonen: [In Between Research Cultures – The State of Digital Humanities in Finland](https://www.researchgate.net/publication/326228905_In_Between_Research_Cultures_-_The_State_of_Digital_Humanities_in_Finland)\n",
    "\n",
    "Read the file with [these instructions](https://pypi.org/project/pdftotext/) and print the page strings"
   ]
  },
  {
   "cell_type": "code",
   "execution_count": 9,
   "metadata": {},
   "outputs": [],
   "source": [
    "import pdftotext\n",
    "\n"
   ]
  },
  {
   "cell_type": "code",
   "execution_count": null,
   "metadata": {},
   "outputs": [],
   "source": []
  },
  {
   "cell_type": "code",
   "execution_count": null,
   "metadata": {},
   "outputs": [],
   "source": []
  },
  {
   "cell_type": "code",
   "execution_count": null,
   "metadata": {},
   "outputs": [],
   "source": []
  }
 ],
 "metadata": {
  "kernelspec": {
   "display_name": "Python 3",
   "language": "python",
   "name": "python3"
  },
  "language_info": {
   "codemirror_mode": {
    "name": "ipython",
    "version": 3
   },
   "file_extension": ".py",
   "mimetype": "text/x-python",
   "name": "python",
   "nbconvert_exporter": "python",
   "pygments_lexer": "ipython3",
   "version": "3.8.3"
  }
 },
 "nbformat": 4,
 "nbformat_minor": 4
}
