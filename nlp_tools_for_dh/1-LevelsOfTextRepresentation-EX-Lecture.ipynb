{
 "cells": [
  {
   "cell_type": "markdown",
   "metadata": {},
   "source": [
    "## Lecture exercise set 1: Levels of text representation\n",
    "\n",
    "## Ex1:  Characters \n",
    "\n",
    "a) Calculate sum of integer representations of characters 'a', 'b', and 'c'"
   ]
  },
  {
   "cell_type": "code",
   "execution_count": 1,
   "metadata": {},
   "outputs": [
    {
     "data": {
      "text/plain": [
       "294"
      ]
     },
     "execution_count": 1,
     "metadata": {},
     "output_type": "execute_result"
    }
   ],
   "source": [
    "ord('a') + ord('b') + ord('c')"
   ]
  },
  {
   "cell_type": "markdown",
   "metadata": {},
   "source": [
    "b) Calculate the integer representations of characters 'a' and 'z' "
   ]
  },
  {
   "cell_type": "code",
   "execution_count": 2,
   "metadata": {},
   "outputs": [
    {
     "name": "stdout",
     "output_type": "stream",
     "text": [
      "97\n",
      "122\n"
     ]
    }
   ],
   "source": [
    "print(ord('a'))\n",
    "print(ord('z'))"
   ]
  },
  {
   "cell_type": "markdown",
   "metadata": {},
   "source": [
    "c) Generate a word of 10 random characters between 'a' and 'z' (hint: use module 'random' and it's function 'randint')"
   ]
  },
  {
   "cell_type": "code",
   "execution_count": 5,
   "metadata": {},
   "outputs": [
    {
     "name": "stdout",
     "output_type": "stream",
     "text": [
      "fmgiltekqm\n"
     ]
    }
   ],
   "source": [
    "import random\n",
    "\n",
    "word = \"\"\n",
    "for i in range(10):\n",
    "    r = chr(random.randint(ord('a'), ord('z')))\n",
    "    word += r\n",
    "print(word)\n"
   ]
  },
  {
   "cell_type": "markdown",
   "metadata": {},
   "source": [
    "## Ex 2: Sentences and tokenization \n",
    "\n",
    "a) Create a list of words in the sentence below. [Replace](https://www.w3schools.com/python/ref_string_replace.asp) special characters first with an empty character, and split the sentence then by space."
   ]
  },
  {
   "cell_type": "code",
   "execution_count": 7,
   "metadata": {},
   "outputs": [
    {
     "name": "stdout",
     "output_type": "stream",
     "text": [
      "['I', 'have', 'to', 'say', 'the', 'weather', 'is', 'nice', 'here']\n"
     ]
    }
   ],
   "source": [
    "sentence = \"I have to say, the weather is nice here!\"\n",
    "sentence = sentence.replace('!', '').replace(',', '').split(' ')\n",
    "print(sentence)"
   ]
  },
  {
   "cell_type": "markdown",
   "metadata": {},
   "source": [
    "b) Let's do almost the same automatically. Install spaCy [here](https://spacy.io/usage).\n",
    "\n",
    "Use [tokenization](https://spacy.io/usage/spacy-101#annotations-token) for the sentence above and print the output in same way as in the example. "
   ]
  },
  {
   "cell_type": "code",
   "execution_count": 4,
   "metadata": {},
   "outputs": [],
   "source": [
    "import spacy\n",
    "\n",
    "nlp = \n"
   ]
  },
  {
   "cell_type": "code",
   "execution_count": null,
   "metadata": {},
   "outputs": [],
   "source": []
  }
 ],
 "metadata": {
  "kernelspec": {
   "display_name": "Python 3",
   "language": "python",
   "name": "python3"
  },
  "language_info": {
   "codemirror_mode": {
    "name": "ipython",
    "version": 3
   },
   "file_extension": ".py",
   "mimetype": "text/x-python",
   "name": "python",
   "nbconvert_exporter": "python",
   "pygments_lexer": "ipython3",
   "version": "3.8.6"
  }
 },
 "nbformat": 4,
 "nbformat_minor": 4
}
