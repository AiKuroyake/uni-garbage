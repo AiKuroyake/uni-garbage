{
 "cells": [
  {
   "cell_type": "markdown",
   "metadata": {},
   "source": [
    "## Exercise set 3: Word statistics\n",
    "\n",
    "In this exercise set, we will learn how to study word statistics with programming. \n",
    "\n",
    "## Ex 1: Word length\n",
    "\n",
    "Word length can be calculated with the same function than list length, `len()`. Download Kafka's metamorphosis text file from the exercise set 1 and calculate it's mean word length. We use [regular expression](https://machinelearningmastery.com/clean-text-machine-learning-python/) in extracting first the words from the text."
   ]
  },
  {
   "cell_type": "code",
   "execution_count": 1,
   "metadata": {},
   "outputs": [
    {
     "ename": "IndentationError",
     "evalue": "expected an indented block (<ipython-input-1-7ba14aa10649>, line 9)",
     "output_type": "error",
     "traceback": [
      "\u001b[0;36m  File \u001b[0;32m\"<ipython-input-1-7ba14aa10649>\"\u001b[0;36m, line \u001b[0;32m9\u001b[0m\n\u001b[0;31m    mean_word_length(words)\u001b[0m\n\u001b[0m    ^\u001b[0m\n\u001b[0;31mIndentationError\u001b[0m\u001b[0;31m:\u001b[0m expected an indented block\n"
     ]
    }
   ],
   "source": [
    "import re\n",
    "\n",
    "f = open(\"kafka_metamorphosis.txt\", \"r\").read()\n",
    "words = re.split(r'\\W+', f)\n",
    "\n",
    "def mean_word_length(words):\n",
    "    #write code here\n",
    "\n",
    "mean_word_length(words)"
   ]
  },
  {
   "cell_type": "markdown",
   "metadata": {},
   "source": [
    "## Ex 2: Edit distance\n",
    "\n",
    "One common task in NLP is to find similar words. There are many ways to calculate similarity: it can be based for example on semantics or on edit distance. In this exercise we will find most similar words regarding to edit distance.\n",
    "\n",
    "Install [nltk](https://www.nltk.org/) and take a look to [edit distance](https://tedboy.github.io/nlps/generated/generated/nltk.edit_distance.html).\n",
    "\n",
    "a) Calculate edit distance for words `\"apple\"` and `\"ant\"`. You can see that \"ant\" is transformed into \"apple\" by first changing \"n\" and \"t\" with two times \"p\" and then adding \"l\" and \"e\". "
   ]
  },
  {
   "cell_type": "code",
   "execution_count": 2,
   "metadata": {},
   "outputs": [],
   "source": [
    "import nltk\n",
    "\n"
   ]
  },
  {
   "cell_type": "markdown",
   "metadata": {},
   "source": [
    "b) Download the whole Metamorphosis novel as a text file [here](https://www.gutenberg.org/cache/epub/5200/pg5200.txt). Print the word pairs where edit distance is 3. Before calculating the edit distances, if there is an empty string in the word list, you can remove it with `words.remove('')`. "
   ]
  },
  {
   "cell_type": "code",
   "execution_count": 1,
   "metadata": {},
   "outputs": [],
   "source": [
    "import re \n",
    "\n",
    "f = open(\"kafka_metamorphosis_whole.txt\", \"r\").read()\n",
    "words = re.split(r'\\W+', f)\n",
    "\n",
    "word_set = set(words) # Make a set of the words. This leaves each word only once to the set. "
   ]
  }
 ],
 "metadata": {
  "kernelspec": {
   "display_name": "Python 3",
   "language": "python",
   "name": "python3"
  },
  "language_info": {
   "codemirror_mode": {
    "name": "ipython",
    "version": 3
   },
   "file_extension": ".py",
   "mimetype": "text/x-python",
   "name": "python",
   "nbconvert_exporter": "python",
   "pygments_lexer": "ipython3",
   "version": "3.8.6"
  }
 },
 "nbformat": 4,
 "nbformat_minor": 4
}
