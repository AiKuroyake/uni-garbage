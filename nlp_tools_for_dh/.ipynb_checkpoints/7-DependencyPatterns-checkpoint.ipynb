{
 "cells": [
  {
   "cell_type": "markdown",
   "metadata": {},
   "source": [
    "# 7. Pattern matching in dependency trees\n",
    "\n",
    "Today we will practice the ways in which dependency parsing can be used to extract complex syntactic structures from texts. SpaCy's *pattern matching* engine allows us to separate the description of the structure of interest from the code that finds it. The latter is mostly done by spaCy.\n",
    "\n",
    "We will use a new dataset consisting of YLE English news from the recent weeks."
   ]
  },
  {
   "cell_type": "code",
   "execution_count": 1,
   "metadata": {},
   "outputs": [],
   "source": [
    "import csv\n",
    "import spacy\n",
    "import spacy.matcher"
   ]
  },
  {
   "cell_type": "code",
   "execution_count": 2,
   "metadata": {},
   "outputs": [],
   "source": [
    "def read_articles(filename):\n",
    "    result = []\n",
    "    with open(filename, encoding='utf-8') as fp:\n",
    "        reader = csv.DictReader(fp)\n",
    "        for row in reader:\n",
    "            result.append(row['text'])\n",
    "    return result"
   ]
  },
  {
   "cell_type": "code",
   "execution_count": 3,
   "metadata": {},
   "outputs": [],
   "source": [
    "nlp = spacy.load('en_core_web_sm')\n",
    "articles = read_articles('yle_en.csv')      # TODO supply the file path if needed\n",
    "docs = [nlp(a) for a in articles]"
   ]
  },
  {
   "cell_type": "code",
   "execution_count": 4,
   "metadata": {},
   "outputs": [
    {
     "data": {
      "text/plain": [
       "The construction of a new passenger ferry terminal in Kotka which will enable service to St. Petersburg, Russia is expected to begin this spring.\n",
       "The terminal's final design is still in progress, but building work is expected to start as early as May this year"
      ]
     },
     "execution_count": 4,
     "metadata": {},
     "output_type": "execute_result"
    }
   ],
   "source": [
    "docs[30][:50]"
   ]
  },
  {
   "cell_type": "code",
   "execution_count": 5,
   "metadata": {},
   "outputs": [
    {
     "data": {
      "text/plain": [
       "\"When the phone lines opened for a new age group to book coronavirus vaccination appointments in Oulu, more than 3,500 calls flooded in a matter of hours.\\nIt's a similar situation nationwide.\\nIn Helsinki people often try to make vaccination appointments ahead of time, while the majority of calls to the appointment booking service in Kainuu come from individuals not yet eligible for the jabs.\\nYle gathered some of the most common questions people ask when calling the vaccination appointment lines and put them to two experts, Sirkku Kaltakari, service manager at Oulu Social and Health Services, and infectious diseases doctor Jarkko Huusko.\\nHere are their answers:\\n1. How do I know if it's my turn to get the vaccine?\\nVaccinations are given according to a nationally-agreed schedule. The website of the Finnish Institute for Health and Welfare (THL) contains information on the order of vaccinations by age and risk groups.\\nIf you can't find the information you need there, you can call your own health centre.\\nStory continues after the image.\\nThe current vaccination schedule according to THL. THL\\n2. How was the vaccination schedule decided?\\nThe schedule was decided by the National Advisory Committee on Vaccines (KRAR), which is appointed by THL and is being strictly followed.\\nAge is the most significant risk factor for coronavirus, which is why the elderly are being vaccinated first.\\n3. I booked an appointment online. How do I know if it worked?\\nYou don't need to confirm an appointment you booked online by calling. In Oulu, for example, you can choose to receive a confirmation by email when you book your time slot.\\n4. Can I get the brand of vaccine I want?\\nFor now, it is not possible to choose which brand of coronavirus vaccine you will receive.\\nA number of different coronavirus vaccines have been approved for use by the European Medicines Agency. Jarkko Riikonen / Yle\\n5. Can a carer get vaccinated at the same time as the person they care for? \\nCarers living in the same household as the person they care for can be vaccinated. The appointment for both the care giver and care receiver can be reserved at the same time. People receiving regular care at home and their carers will receive the vaccine via their home care service.\\n6. Can you get vaccinated if you've already had the coronavirus? What about other illnesses or medical treatments? \\nIf you've had the coronavirus you can still get the vaccine, but there's no rush to get vaccinated. It's currently thought that recovering from the illness provides protection from new infection for up to six months.\\nSuffering from an infectious disease is a reason to delay vaccination. You can only get vaccinated when you're healthy and have recovered from the infection.\\nAfter receiving chemotherapy it's a good idea to let your body recover for a few days so your immune system can respond to the vaccine. High-dose cortisone treatment is also a barrier to getting vaccinated.\\n7. Can the vaccine give you coronavirus?\\nNo it can't.\\nThe vaccine may cause mild and brief symptoms near the injection site in some patients. General symptoms can include hot flushes, redness, swelling, pain or swelling of the lymph nodes.\\nSome people might also experience mild general symptoms like tiredness, feeling unwell or having a temperature, according to the experts.\""
      ]
     },
     "execution_count": 5,
     "metadata": {},
     "output_type": "execute_result"
    }
   ],
   "source": [
    "articles[5]"
   ]
  },
  {
   "cell_type": "code",
   "execution_count": 6,
   "metadata": {},
   "outputs": [
    {
     "data": {
      "text/plain": [
       "opened"
      ]
     },
     "execution_count": 6,
     "metadata": {},
     "output_type": "execute_result"
    }
   ],
   "source": [
    "docs[5][0].head"
   ]
  },
  {
   "cell_type": "markdown",
   "metadata": {},
   "source": [
    "# In-class exercises"
   ]
  },
  {
   "cell_type": "markdown",
   "metadata": {},
   "source": [
    "# Ex 1\n",
    "\n",
    "Write a function `verb_dep(nlp, docs, tag, dep)`, that finds all **verbs** which take a dependent of type `dep` tagged as `tag`. The function should return a list of lists of pairs of `Token` objects: the verb and its dependent. We return a list of such pairs for every article (see example).\n",
    "\n",
    "Use the function to find all instances of verbs that have a proper noun (`PROPN`) as subject (`nsubj`).\n",
    "\n",
    "Use `spacy.matcher.DependencyMatcher` for implementation. You will find the necessary documentation here:\n",
    "* https://spacy.io/api/dependencymatcher\n",
    "* https://spacy.io/api/matcher"
   ]
  },
  {
   "cell_type": "code",
   "execution_count": 15,
   "metadata": {},
   "outputs": [],
   "source": [
    "# solution without matchers\n",
    "def verb_dep(nlp, docs, tag, dep):\n",
    "    # find words tagged with 'tag' whose head is a verb and whose dependency type is 'dep'\n",
    "    results = []\n",
    "    for d in docs:\n",
    "        results_doc = []\n",
    "        for tok in d:\n",
    "            if tok.pos_ == tag and tok.head.pos_ == 'VERB' and tok.dep_ == 'nsubj':\n",
    "                results_doc.append((tok.head, tok))\n",
    "        results.append(results_doc)\n",
    "    return results"
   ]
  },
  {
   "cell_type": "code",
   "execution_count": 34,
   "metadata": {},
   "outputs": [],
   "source": [
    "# this is the proper solution to the exercise\n",
    "def verb_dep(nlp, docs, tag, dep):\n",
    "    pattern = [\n",
    "        {'RIGHT_ID': 'verb', \n",
    "         'RIGHT_ATTRS': {'POS': 'VERB'}},\n",
    "        # verb > subject\n",
    "        {'LEFT_ID': 'verb',\n",
    "         'RIGHT_ID': 'subject',\n",
    "         'REL_OP': '>',\n",
    "         'RIGHT_ATTRS': {'POS': tag, 'DEP': dep}}\n",
    "    ]\n",
    "    matcher = spacy.matcher.DependencyMatcher(nlp.vocab)\n",
    "    matcher.add('verb_with_its_dep', [pattern])\n",
    "    results = []\n",
    "    for d in docs:\n",
    "        results_doc = []\n",
    "        for m_id, toks in matcher(d):\n",
    "            results_doc.append((d[toks[0]], d[toks[1]], d[toks[2]]))\n",
    "        results.append(results_doc)\n",
    "    return results"
   ]
  },
  {
   "cell_type": "code",
   "execution_count": 7,
   "metadata": {},
   "outputs": [],
   "source": [
    "# what if we wanted the verb to be additionally specified by an adverb?\n",
    "# -> we don't need to change much, just add another token to the pattern\n",
    "def verb_dep(nlp, docs, tag, dep):\n",
    "    pattern = [\n",
    "        {'RIGHT_ID': 'verb', \n",
    "         'RIGHT_ATTRS': {'POS': 'VERB'}},\n",
    "        # verb > subject\n",
    "        {'LEFT_ID': 'verb',\n",
    "         'RIGHT_ID': 'subject',\n",
    "         'REL_OP': '>',\n",
    "         'RIGHT_ATTRS': {'POS': tag, 'DEP': dep}},\n",
    "        # verb > adverb\n",
    "        {'LEFT_ID': 'verb',\n",
    "         'RIGHT_ID': 'adverb',\n",
    "         'REL_OP': '>',\n",
    "         'RIGHT_ATTRS': {'POS': 'ADV'}}\n",
    "    ]\n",
    "    matcher = spacy.matcher.DependencyMatcher(nlp.vocab)\n",
    "    matcher.add('verb_with_its_dep', [pattern])\n",
    "    results = []\n",
    "    for d in docs:\n",
    "        results_doc = []\n",
    "        for m_id, toks in matcher(d):\n",
    "            results_doc.append((d[toks[0]], d[toks[1]], d[toks[2]]))\n",
    "        results.append(results_doc)\n",
    "    return results"
   ]
  },
  {
   "cell_type": "code",
   "execution_count": 8,
   "metadata": {},
   "outputs": [
    {
     "data": {
      "text/plain": [
       "[[(employs, Nokia, currently), (employs, Nokia, worldwide)],\n",
       " [(pick, Schoolchildren, also)]]"
      ]
     },
     "execution_count": 8,
     "metadata": {},
     "output_type": "execute_result"
    }
   ],
   "source": [
    "verb_dep(nlp, docs, 'PROPN', 'nsubj')[:2]"
   ]
  },
  {
   "cell_type": "markdown",
   "metadata": {},
   "source": [
    "## Ex 2"
   ]
  },
  {
   "cell_type": "markdown",
   "metadata": {},
   "source": [
    "Use `spacy.matcher.PhraseMatcher` to find the following multi-word phrases in the corpus:\n",
    "* `\"municipal elections\"`\n",
    "* `\"coronavirus restrictions\"`"
   ]
  },
  {
   "cell_type": "code",
   "execution_count": 28,
   "metadata": {},
   "outputs": [],
   "source": [
    "# create the `matcher` object\n",
    "# matcher musí mít jméno (tady 'COVID'), jinak nebude fungovat\n",
    "matcher = spacy.matcher.PhraseMatcher(nlp.vocab)\n",
    "matcher.add('COVID', [nlp('municipal elections'), nlp('coronavirus restrictions')])"
   ]
  },
  {
   "cell_type": "code",
   "execution_count": 30,
   "metadata": {
    "scrolled": true
   },
   "outputs": [
    {
     "name": "stdout",
     "output_type": "stream",
     "text": [
      "(2428025407850408099, 251, 253)\n",
      "coronavirus restrictions\n",
      "Katri Mannonen / Yle\n",
      "Municipalities scrambled to provide food to remote learning school children as most parts of the country entered a three-week period of heightened coronavirus restrictions, starting 8 March.\n",
      "\n",
      "(2428025407850408099, 631, 633)\n",
      "municipal elections\n",
      "In addition, it was decided to postpone the municipal elections due to the difficult public health situation.\n",
      "\n",
      "(2428025407850408099, 312, 314)\n",
      "coronavirus restrictions\n",
      "Rallies against coronavirus restrictions are taking place in some 40 countries around the world on Saturday.\n",
      "\n",
      "(2428025407850408099, 76, 78)\n",
      "municipal elections\n",
      "Jussi Halla-aho, chair of the Finns Party, and the party's parliamentary group leader, Ville Tavio,on Saturday claimed Justice Minister Anna-Maja Henriksson had misled citizens and instructed municipalities to break the law in the lead-up to the decision to postpone this spring's municipal elections.\n",
      "\n",
      "(2428025407850408099, 171, 173)\n",
      "municipal elections\n",
      "On Friday, Parliament's Constitutional Law Committee unanimously approved the postponement of the municipal elections from 18 April until 13 June.\n",
      "\n",
      "(2428025407850408099, 9, 11)\n",
      "coronavirus restrictions\n",
      "According to senior police, Saturday's demonstration against coronavirus restrictions in downtown Helsinki will not set a precedent for future demonstrations.\n",
      "\n",
      "(2428025407850408099, 109, 111)\n",
      "coronavirus restrictions\n",
      "Many people on social media have questioned why the police allowed demonstrators to break current coronavirus restrictions.\n",
      "\n",
      "\n",
      "(2428025407850408099, 232, 234)\n",
      "coronavirus restrictions\n",
      "The question now is whether the protest will possibly give citizens the impression that coronavirus restrictions can be freely broken.\n",
      "\n",
      "(2428025407850408099, 25, 27)\n",
      "coronavirus restrictions\n",
      "One of the top-read stories on Finland's largest daily Helsingin Sanomat on Tuesday is experts' views on whether and when tougher coronavirus restrictions should be brought in.\n",
      "\n",
      "(2428025407850408099, 46, 48)\n",
      "municipal elections\n",
      "This is despite the fact that in the last municipal elections in 2017, more women were elected into municipal councils than ever before.\n",
      "\n",
      "(2428025407850408099, 310, 312)\n",
      "municipal elections\n",
      "Last autumn, the Association of Finnish Local and Regional Authorities investigated the reasons that affect people's willingness to run for office in municipal elections.\n",
      "\n",
      "(2428025407850408099, 71, 73)\n",
      "coronavirus restrictions\n",
      "The company said that the move was prompted by the negative economic impact of tightening coronavirus restrictions.\n",
      "\n",
      "(2428025407850408099, 103, 105)\n",
      "coronavirus restrictions\n",
      "While Stockmann's online store continues to operate, the company said the aim was to reduce the number of staff working in store in anticipation of tighter coronavirus restrictions that would prevent customers from shopping in person, as well as offsetting the loss of revenue caused by the pandemic.\n",
      "\n",
      "(2428025407850408099, 65, 67)\n",
      "municipal elections\n",
      "The Finns Party had filed the no-confidence motion against Justice Minister Anna-Maja Henriksson, claiming she had misled citizens and instructed municipalities to break the law in the lead-up to the decision to postpone this spring's municipal elections.\n",
      "\n",
      "(2428025407850408099, 78, 80)\n",
      "municipal elections\n",
      "Parliament also voted to approve the postponement of the municipal elections from 18 April until 13 June.\n",
      "\n",
      "(2428025407850408099, 150, 152)\n",
      "municipal elections\n",
      "Henriksson recalled that eight of the nine parliamentary parties and the Parliamentary Constitution Committee approved the postponement of the municipal elections.\n",
      "\n",
      "(2428025407850408099, 162, 164)\n",
      "municipal elections\n",
      "\"It would have been possible to hold municipal elections in April, but not responsibly,\" Henriksson added.\n",
      "\n",
      "(2428025407850408099, 158, 160)\n",
      "coronavirus restrictions\n",
      "Both parties enjoy higher levels of support in parts of the south and southwest which are currently under tightened coronavirus restrictions.\n",
      "\n",
      "(2428025407850408099, 20, 22)\n",
      "coronavirus restrictions\n",
      "An estimated 150 people have gathered in the city of Turku in Southwest Finland on Saturday afternoon to protest against coronavirus restrictions.\n",
      "\n",
      "(2428025407850408099, 83, 85)\n",
      "municipal elections\n",
      "The race at the top remains tight, with the three parties fighting a close battle for first place in the delayed municipal elections, set for 13 June.\n",
      "\n",
      "(2428025407850408099, 368, 370)\n",
      "municipal elections\n",
      "Improved support for the National Coalition Party bodes well for them in the municipal elections.\n",
      "\n",
      "(2428025407850408099, 636, 638)\n",
      "municipal elections\n",
      "\"At the moment, it is of paramount importance for the Centre that they get their potential supporters to the ballot box if the party wants a reasonable result in the municipal elections,\" Turja said.\n",
      "\n",
      "(2428025407850408099, 662, 664)\n",
      "municipal elections\n",
      "At 12.5 percent, support for the Centre is currently five percentage points lower than in the last municipal elections in 2017.\n",
      "\n",
      "(2428025407850408099, 732, 734)\n",
      "municipal elections\n",
      "Support for the Swedish People's Party has not shifted at all, although its leader, Justice Minister Anna-Maja Henriksson, was heavily criticised for postponing the municipal elections.\n",
      "\n",
      "(2428025407850408099, 768, 770)\n",
      "municipal elections\n",
      "According to Turja, the approach of the municipal elections is reflected in the fact that the popularity of groups outside Parliament increased slightly in the support survey.\n",
      "\n",
      "(2428025407850408099, 36, 38)\n",
      "coronavirus restrictions\n",
      "The country is at the height of the spread of seasonal street dust, but current coronavirus restrictions may be providing some relief from this annual predicament, according to Pia Anttila, a researcher at the Finnish Meteorological Institute (FMI).\n",
      "\n",
      "(2428025407850408099, 532, 534)\n",
      "coronavirus restrictions\n",
      "In March last year, the cruise ship industry halted most passenger traffic due to coronavirus restrictions imposed by the authorities.\n",
      "\n",
      "(2428025407850408099, 19, 21)\n",
      "coronavirus restrictions\n",
      "An international comparative study of 11 countries has found people in Finland were the most committed to complying with coronavirus restrictions.\n",
      "\n",
      "(2428025407850408099, 357, 359)\n",
      "coronavirus restrictions\n",
      "\"Citizens are prepared to comply with coronavirus restrictions that restrict their own fundamental rights if they are perceived to be effective.\n",
      "\n",
      "(2428025407850408099, 15, 17)\n",
      "coronavirus restrictions\n",
      "Helsinki Police suspect 46 people of violating restrictions on public gatherings during a demonstration against coronavirus restrictions held in the capital on 20 March.\n",
      "\n",
      "(2428025407850408099, 13, 15)\n",
      "coronavirus restrictions\n",
      "Due to coronavirus restrictions on travel and bars, Alko's position as an alcohol vendor was significantly improved, which was reflected in its revenues.\n",
      "\n",
      "\n",
      "(2428025407850408099, 15, 17)\n",
      "coronavirus restrictions\n",
      "Finland's government has prepared a draft plan for the gradual relaxing and removal of coronavirus restrictions, beginning this month with the end of partial shutdown.\n",
      "\n",
      "(2428025407850408099, 6, 8)\n",
      "coronavirus restrictions\n",
      "Plans for the gradual easing of coronavirus restrictions look to be on schedule, a government source has reportedly told Iltalehti.\n",
      "\n",
      "(2428025407850408099, 251, 253)\n",
      "coronavirus restrictions\n",
      "The group invited the public to join the event on its website, without any mention of coronavirus restrictions on group size.\n",
      "\n",
      "(2428025407850408099, 349, 351)\n",
      "municipal elections\n",
      "Last month Henriksson sailed through a confidence vote in Parliament, brought by opposition parties critical of her handling of the postponement of municipal elections from April to June.\n",
      "\n",
      "(2428025407850408099, 131, 133)\n",
      "coronavirus restrictions\n",
      "Police said in advance that they intended to disband a so-called \"Grand March\" against coronavirus restrictions planned for Saturday if an attempt was made to form a large group out of many small demonstrations in the procession.\n",
      "\n",
      "(2428025407850408099, 839, 841)\n",
      "coronavirus restrictions\n",
      "Hämeenlinna's Wanaja Festival is awaiting more detailed instructions on how coronavirus restrictions will be lifted.\n",
      "\n"
     ]
    }
   ],
   "source": [
    "for i, d in enumerate(docs):\n",
    "    for m in matcher(d):\n",
    "        print(m)\n",
    "        print(d[m[1]:m[2]])\n",
    "        print(d[m[1]].sent)\n",
    "        print()"
   ]
  },
  {
   "cell_type": "markdown",
   "metadata": {},
   "source": [
    "## Ex 3\n",
    "\n",
    "Extract all syntactic phrases headed by the word `\"situation\"`.\n",
    "\n",
    "In a dependency tree, such phrase corresponds to the subtree containing all descendents of the token of interest. You can get it using the field `token.subtree`."
   ]
  },
  {
   "cell_type": "code",
   "execution_count": 31,
   "metadata": {},
   "outputs": [
    {
     "name": "stdout",
     "output_type": "stream",
     "text": [
      "[the, situation]\n",
      "[certain, situations, we, have, to, go, to, so, -, called, virgin, areas]\n",
      "[a, similar, situation]\n",
      "[the, prevailing, pandemic, situation, and, the, necessary, safety, arrangements]\n",
      "[the, examination, situation]\n",
      "[the, disease, situation]\n",
      "[the, situation, in, Estonia, ,, where, the, infection, rate, is, now, the, second, -, highest, in, the, continent, and, around, nine, times, higher, than, it, is, in, Finland]\n",
      "[the, worst, infection, situation, outside, of, the, Helsinki, region]\n",
      "[The, coronavirus, situation]\n",
      "[the, pandemic, situation]\n",
      "[the, situation, in, the, greater, Helsinki, and, Turku, regions]\n",
      "[Finland, 's, deteriorating, Covid, situation]\n",
      "[the, situation]\n",
      "[the, coronavirus, situation]\n",
      "[an, embarrassing, situation]\n",
      "[a, completely, everyday, situation]\n",
      "[certain, situations]\n",
      "[the, current, situation]\n",
      "[situations, where, a, passenger, does, not, provide, proof, of, illness, or, a, recent, coronavirus, test]\n",
      "[the, situation]\n",
      "[The, situation]\n",
      "[the, situation]\n",
      "[the, deteriorating, coronavirus, situation]\n",
      "[the, difficult, public, health, situation]\n",
      "[the, situation]\n",
      "[these, situations]\n",
      "[a, situation, in, which, the, police, have, to, interpret, the, rules, ,, or, one, in, which, police, have, to, interrogate, citizens, about, their, comings, and, goings]\n",
      "[difficult, situations, ,, unrest, or, even, civil, war]\n",
      "[the, situation]\n",
      "[the, situation]\n",
      "[the, worsening, situation]\n",
      "[the, situation]\n",
      "[25, threatening, situations, ,, including, an, incident, where, an, angry, motorist, attempted, to, run, over, one, of, the, city, ’s, parking, attendants]\n",
      "[a, conflict, situation]\n",
      "[a, particular, situation]\n",
      "[the, current, coronavirus, situation]\n",
      "[situation]\n",
      "[the, situation]\n",
      "[the, country, 's, worsening, coronavirus, situation]\n",
      "[the, situation]\n",
      "[The, worsened, financial, situation, of, the, elderly]\n",
      "[Situation, still, serious]\n",
      "[the, situation]\n",
      "[the, city, 's, worsening, epidemic, situation]\n",
      "[the, city, 's, overall, coronavirus, situation]\n",
      "[The, situation]\n",
      "[the, situation]\n",
      "[the, current, epidemic, situation]\n",
      "[The, situation]\n",
      "[similar, situations]\n",
      "[this, situation]\n",
      "[a, situation, companies, are, allowed, where, to, decide, their, own, tailor, -, made, solutions]\n",
      "[A, calm, situation]\n",
      "[the, situation, in, other, countries, ,, including, Ireland, and, Portugal, ,, where, a, relatively, calm, situation, got, out, of, control, very, quickly, and, endangered, health, care, capacity]\n",
      "[a, relatively, calm, situation]\n",
      "[The, pandemic, situation, in, the, Helsinki, metropolitan, area]\n",
      "[such, situations]\n",
      "[The, situation]\n",
      "[indoor, situations]\n",
      "[such, situations]\n",
      "[the, worst, epidemic, situation]\n",
      "[the, situation, caused, by, the, pandemic]\n",
      "[the, unemployment, situation]\n",
      "[their, own, financial, situation]\n",
      "[the, restaurant, restriction, situation]\n",
      "[the, pandemic, situation]\n",
      "[the, deteriorating, situation]\n",
      "[the, coronavirus, situation, in, the, area]\n",
      "[the, situation]\n",
      "[the, situation, in, Finland, 's, intensive, care, units]\n",
      "[The, situation]\n",
      "[an, exceptional, situation, for, us]\n",
      "[life, situations, or, stress, at, work]\n",
      "[the, situation]\n",
      "[a, positive, situation, in]\n",
      "[the, situation]\n",
      "[the, infection, situation, in, various, parts, of, the, country]\n",
      "[the, pandemic, situation]\n",
      "[the, globally, challenging, situation]\n",
      "[the, situation]\n",
      "[a, very, difficult, situation]\n",
      "[the, coronavirus, situation, at, a, Defence, Forces, barracks]\n",
      "[the, situation]\n",
      "[the, coronavirus, situation, at, a, garrison]\n",
      "[situations, like, the, current, coronavirus, pandemic, or, other, similar, crises]\n",
      "[the, situation]\n",
      "[the, Covid-19, situation]\n",
      "[an, embarrassing, situation]\n",
      "[the, situation]\n",
      "[a, new, situation]\n",
      "[the, situation, of, rising, numbers, itself]\n",
      "[the, situation]\n",
      "[the, Covid-19, situation]\n",
      "[the, situation, and, the, pace, of, vaccination, in, Finland, ,, Estonia, and, Sweden]\n",
      "[the, situation, with, these, workers]\n",
      "[the, epidemic, situation]\n",
      "[the, coronavirus, situation]\n",
      "[the, epidemic, situation]\n",
      "[the, epidemic, situation, in, neighbouring, countries]\n",
      "[the, virus, situation]\n",
      "[the, regional, situation]\n",
      "[this, situation]\n",
      "[situation]\n",
      "[The, situation]\n",
      "[the, unusual, situation]\n",
      "[a, rare, situation, that, does, n't, happen, every, day]\n",
      "[customer, -, facing, situations]\n",
      "[The, riskier, situations]\n",
      "[the, coronavirus, situation]\n",
      "[their, economic, and, employment, situations]\n"
     ]
    }
   ],
   "source": [
    "for d in docs:\n",
    "    for tok in d:\n",
    "        if tok.lemma_ == 'situation':\n",
    "            print(list(tok.subtree))"
   ]
  },
  {
   "cell_type": "markdown",
   "metadata": {},
   "source": [
    "# Homework"
   ]
  },
  {
   "cell_type": "markdown",
   "metadata": {},
   "source": [
    "## Ex 4 (5p.)\n",
    "\n",
    "Write a function `find_quotes(nlp, docs)` that identifies and attributes direct quotes in the text. A direct quote looks like this:\n",
    "\n",
    "\"*There is no simple answer,*\" **Matti Sarvimäki**, Assistant Professor of Economics at Aalto University **told** the paper.\n",
    "\n",
    "We recognize the following three identifying elements:\n",
    "* **proposition** - the text that is being quoted (e.g. \"There is no simple answer\"),\n",
    "* **author** - the person that is being quoted (\"Matti Sarvimäki\"),\n",
    "* **cue** - a verb indicating a speech act, e.g. \"told\".\n",
    "\n",
    "The function should output a list of triplets: `(author, cue, proposition)`, each being a `Tok` or `Span` object. You may use information gained from exercise 1 to manually create a list of speech act verbs (it does not need to be exhaustive, a couple of common examples are enough).\n",
    "\n",
    "3 points are given for a basic working version of the function. For full points, pay attention to the following details:\n",
    "* If a name is given in the form `FirstName LastName`, output a `Span` object containing them both as author. (1p.)\n",
    "* If the proposition ends with a quote character (`\"`), look for the matching character to find where it starts. It might be a different sentence! (1p.)\n",
    "\n",
    "You can restrict the solution to propositions enclosed in quotes and the speaker being named by name (rather than a pronoun)."
   ]
  },
  {
   "cell_type": "code",
   "execution_count": 89,
   "metadata": {},
   "outputs": [],
   "source": [
    "def find_quotes(nlp, doc):\n",
    "    pattern = [\n",
    "        # verb indicating speech\n",
    "        {\"RIGHT_ID\": \"speech_verb\",\n",
    "         \"RIGHT_ATTRS\": {\"POS\": \"VERB\", \"LEMMA\": {\"IN\": [\"tell\", \"say\", \"ask\", \"talk\"]}}},\n",
    "        # who is saying\n",
    "        {\"LEFT_ID\": \"speech_verb\",\n",
    "         \"REL_OP\": \">\",\n",
    "         \"RIGHT_ID\": \"who\",\n",
    "         \"RIGHT_ATTRS\": {\"DEP\": \"nsubj\", \"ENT_TYPE\": \"PERSON\"}},\n",
    "        # what is being said\n",
    "        {\"LEFT_ID\": \"speech_verb\",\n",
    "         \"REL_OP\": \">\",\n",
    "         \"RIGHT_ID\": \"proposition\",\n",
    "         \"RIGHT_ATTRS\": {\"DEP\": \"ccomp\"}}\n",
    "    ]\n",
    "    matcher = spacy.matcher.DependencyMatcher(nlp.vocab)\n",
    "    matcher.add('pattern', [pattern])\n",
    "    \n",
    "    results = []\n",
    "    for d in docs:\n",
    "        for m_id, toks in matcher(d):\n",
    "            results.append((d[toks[0]], d[toks[1]], ' '.join(str(t) for t in list(d[toks[2]].subtree))))\n",
    "    return results\n",
    "\n",
    "# I tried printing the name with this: ' '.join(str(n) for n in list(d[toks[1]].subtree) if n.dep_ == \"compound\")\n",
    "# But in some sentences, it gave me an empty string (q[100]) or printed more than I wanted (q[1]), so I left\n",
    "# only d[toks[1]] in the code"
   ]
  },
  {
   "cell_type": "code",
   "execution_count": 90,
   "metadata": {},
   "outputs": [],
   "source": [
    "q = find_quotes(nlp, docs)"
   ]
  },
  {
   "cell_type": "code",
   "execution_count": 91,
   "metadata": {},
   "outputs": [
    {
     "name": "stdout",
     "output_type": "stream",
     "text": [
      "(said, Turkia, 'Some said it was great that we reacted so quickly')\n",
      "(said, Mäkijärvi, '\" Each municipality will decide on the matter independently , but I would believe that this will happen')\n",
      "(said, Callamard, 'With the pandemic at this stage , even the most deluded leaders have difficulty denying the fact that our social , economic and political systems are broken')\n",
      "(said, Supo, 'The most significant terrorist threat on a global scale is posed by radical Islamists')\n"
     ]
    }
   ],
   "source": [
    "print(q[1])\n",
    "print(q[100])\n",
    "print(q[213])\n",
    "print(q[87])"
   ]
  },
  {
   "cell_type": "code",
   "execution_count": 253,
   "metadata": {},
   "outputs": [],
   "source": [
    "q = find_quotes(nlp, docs)"
   ]
  },
  {
   "cell_type": "code",
   "execution_count": 254,
   "metadata": {},
   "outputs": [
    {
     "name": "stdout",
     "output_type": "stream",
     "text": [
      "[(told, Hanna Nohynek, \"Thinking about it, it could probably be a way to increase the number of people protected, if the quantity of vaccines available in Finland is much less than promised,), (said, Puhakka, \"Oulu is a growing city and in certain situations we have to go to so-called virgin areas), (told, Puhakka, \"We believe that Oulu's forest nature conservation decisions compensate for the decisions that have to be made in different parts of the city, due to the city's natural growth)]\n"
     ]
    }
   ],
   "source": [
    "# This might not show *all* quotes. My solution is not perfect either.\n",
    "print(q[3])"
   ]
  },
  {
   "cell_type": "code",
   "execution_count": 255,
   "metadata": {},
   "outputs": [
    {
     "name": "stdout",
     "output_type": "stream",
     "text": [
      "[(said, Simola, \"My husband immediately said that it was a wolf), (told, Simola, \"It was a really touching, amazing moment. Seeing such a wild animal inside the Ring I beltway really made you rub your eyes. It was a rare situation that doesn't happen every day), (said, Simola, \"We've talked today about our relationship with wildlife and how even though the wolf may look nice, it is still an unpredictable wild animal that needs to be given its own space), (said, Hallamaa, \"The wolf has not growled or shown its teeth. On the contrary, it has apparently tried to escape from humans with its tail between its legs)]\n"
     ]
    }
   ],
   "source": [
    "print(q[207])"
   ]
  },
  {
   "cell_type": "markdown",
   "metadata": {},
   "source": [
    "# Further reading\n",
    "\n",
    "* https://spacy.io/usage/rule-based-matching\n",
    "* https://applied-language-technology.readthedocs.io/en/latest/notebooks/part_iii/02_pattern_matching.html"
   ]
  }
 ],
 "metadata": {
  "kernelspec": {
   "display_name": "Python 3",
   "language": "python",
   "name": "python3"
  },
  "language_info": {
   "codemirror_mode": {
    "name": "ipython",
    "version": 3
   },
   "file_extension": ".py",
   "mimetype": "text/x-python",
   "name": "python",
   "nbconvert_exporter": "python",
   "pygments_lexer": "ipython3",
   "version": "3.8.6"
  }
 },
 "nbformat": 4,
 "nbformat_minor": 4
}
