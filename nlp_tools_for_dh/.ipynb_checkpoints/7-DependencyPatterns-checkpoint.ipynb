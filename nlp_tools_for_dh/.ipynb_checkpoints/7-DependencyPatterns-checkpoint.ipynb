{
 "cells": [
  {
   "cell_type": "markdown",
   "metadata": {},
   "source": [
    "# 7. Pattern matching in dependency trees\n",
    "\n",
    "Today we will practice the ways in which dependency parsing can be used to extract complex syntactic structures from texts. SpaCy's *pattern matching* engine allows us to separate the description of the structure of interest from the code that finds it. The latter is mostly done by spaCy.\n",
    "\n",
    "We will use a new dataset consisting of YLE English news from the recent weeks."
   ]
  },
  {
   "cell_type": "code",
   "execution_count": 2,
   "metadata": {},
   "outputs": [],
   "source": [
    "import csv\n",
    "import spacy\n",
    "import spacy.matcher"
   ]
  },
  {
   "cell_type": "code",
   "execution_count": 3,
   "metadata": {},
   "outputs": [],
   "source": [
    "def read_articles(filename):\n",
    "    result = []\n",
    "    with open(filename) as fp:\n",
    "        reader = csv.DictReader(fp)\n",
    "        for row in reader:\n",
    "            result.append(row['text'])\n",
    "    return result"
   ]
  },
  {
   "cell_type": "code",
   "execution_count": 4,
   "metadata": {},
   "outputs": [],
   "source": [
    "nlp = spacy.load('en_core_web_sm')\n",
    "articles = read_articles('yle_en.csv')      # TODO supply the file path if needed\n",
    "docs = [nlp(a) for a in articles]"
   ]
  },
  {
   "cell_type": "code",
   "execution_count": 5,
   "metadata": {},
   "outputs": [
    {
     "data": {
      "text/plain": [
       "The construction of a new passenger ferry terminal in Kotka which will enable service to St. Petersburg, Russia is expected to begin this spring.\n",
       "The terminal's final design is still in progress, but building work is expected to start as early as May this year"
      ]
     },
     "execution_count": 5,
     "metadata": {},
     "output_type": "execute_result"
    }
   ],
   "source": [
    "docs[30][:50]"
   ]
  },
  {
   "cell_type": "markdown",
   "metadata": {},
   "source": [
    "# In-class exercises"
   ]
  },
  {
   "cell_type": "markdown",
   "metadata": {},
   "source": [
    "# Ex 1\n",
    "\n",
    "Write a function `verb_dep(nlp, docs, tag, dep)`, that finds all **verbs** which take a dependent of type `dep` tagged as `tag`. The function should return a list of lists of pairs of `Token` objects: the verb and its dependent. We return a list of such pairs for every article (see example).\n",
    "\n",
    "Use the function to find all instances of verbs that have a proper noun (`PROPN`) as subject (`nsubj`).\n",
    "\n",
    "Use `spacy.matcher.DependencyMatcher` for implementation. You will find the necessary documentation here:\n",
    "* https://spacy.io/api/dependencymatcher\n",
    "* https://spacy.io/api/matcher"
   ]
  },
  {
   "cell_type": "code",
   "execution_count": 9,
   "metadata": {},
   "outputs": [],
   "source": [
    "def verb_dep(nlp, docs, tag, dep):\n",
    "    # find words tagged with 'tag' whose head and whose dependency type is 'dep'\n",
    "    results = []\n",
    "    for d in docs:\n",
    "        results_docs = []\n",
    "        for tok in d:\n",
    "            if tok.pos_ == tag and tok.head.pos_ == 'VERB' and tok.dep_ == 'nsubj':\n",
    "                results_docs.append((tok.head, tok))\n",
    "        results.append(results_docs)\n",
    "    return results"
   ]
  },
  {
   "cell_type": "code",
   "execution_count": null,
   "metadata": {},
   "outputs": [],
   "source": [
    "def verb_dep(nlp, docs, tag, dep):\n",
    "    pattern = [\n",
    "        {'RIGHT_ID': 'verb',\n",
    "         'RIGHT_ATTRS': {'POS': 'VERB'}}\n",
    "        # verb -> subject\n",
    "        {#TO-DO}\n",
    "    ]"
   ]
  },
  {
   "cell_type": "code",
   "execution_count": 10,
   "metadata": {},
   "outputs": [
    {
     "data": {
      "text/plain": [
       "[[(announced, Nokia), (employs, Nokia), (said, Lundmark), (reported, Nokia)],\n",
       " [(said, Turkia), (weighed, Yle), (pick, Schoolchildren), (told, Kalo)]]"
      ]
     },
     "execution_count": 10,
     "metadata": {},
     "output_type": "execute_result"
    }
   ],
   "source": [
    "verb_dep(nlp, docs, 'PROPN', 'nsubj')[:2]"
   ]
  },
  {
   "cell_type": "markdown",
   "metadata": {},
   "source": [
    "## Ex 2"
   ]
  },
  {
   "cell_type": "markdown",
   "metadata": {},
   "source": [
    "Use `spacy.matcher.PhraseMatcher` to find the following multi-word phrases in the corpus:\n",
    "* `\"municipal elections\"`\n",
    "* `\"coronavirus restrictions\"`"
   ]
  },
  {
   "cell_type": "code",
   "execution_count": 236,
   "metadata": {},
   "outputs": [],
   "source": [
    "# TODO create the `matcher` object\n"
   ]
  },
  {
   "cell_type": "code",
   "execution_count": 250,
   "metadata": {
    "scrolled": true
   },
   "outputs": [
    {
     "name": "stdout",
     "output_type": "stream",
     "text": [
      "Katri Mannonen / Yle\n",
      "Municipalities scrambled to provide food to remote learning school children as most parts of the country entered a three-week period of heightened coronavirus restrictions, starting 8 March.\n",
      "In addition, it was decided to postpone the municipal elections due to the difficult public health situation.\n",
      "Rallies against coronavirus restrictions are taking place in some 40 countries around the world on Saturday.\n",
      "Jussi Halla-aho, chair of the Finns Party, and the party's parliamentary group leader, Ville Tavio,on Saturday claimed Justice Minister Anna-Maja Henriksson had misled citizens and instructed municipalities to break the law in the lead-up to the decision to postpone this spring's municipal elections.\n",
      "On Friday, Parliament's Constitutional Law Committee unanimously approved the postponement of the municipal elections from 18 April until 13 June.\n",
      "According to senior police, Saturday's demonstration against coronavirus restrictions in downtown Helsinki will not set a precedent for future demonstrations.\n",
      "Many people on social media have questioned why the police allowed demonstrators to break current coronavirus restrictions.\n",
      "\n",
      "The question now is whether the protest will possibly give citizens the impression that coronavirus restrictions can be freely broken.\n",
      "One of the top-read stories on Finland's largest daily Helsingin Sanomat on Tuesday is experts' views on whether and when tougher coronavirus restrictions should be brought in.\n",
      "This is despite the fact that in the last municipal elections in 2017, more women were elected into municipal councils than ever before.\n",
      "Last autumn, the Association of Finnish Local and Regional Authorities investigated the reasons that affect people's willingness to run for office in municipal elections.\n",
      "The company said that the move was prompted by the negative economic impact of tightening coronavirus restrictions.\n",
      "While Stockmann's online store continues to operate, the company said the aim was to reduce the number of staff working in store in anticipation of tighter coronavirus restrictions that would prevent customers from shopping in person, as well as offsetting the loss of revenue caused by the pandemic.\n",
      "The Finns Party had filed the no-confidence motion against Justice Minister Anna-Maja Henriksson, claiming she had misled citizens and instructed municipalities to break the law in the lead-up to the decision to postpone this spring's municipal elections.\n",
      "Parliament also voted to approve the postponement of the municipal elections from 18 April until 13 June.\n",
      "Henriksson recalled that eight of the nine parliamentary parties and the Parliamentary Constitution Committee approved the postponement of the municipal elections.\n",
      "\"It would have been possible to hold municipal elections in April, but not responsibly,\" Henriksson added.\n",
      "Both parties enjoy higher levels of support in parts of the south and southwest which are currently under tightened coronavirus restrictions.\n",
      "An estimated 150 people have gathered in the city of Turku in Southwest Finland on Saturday afternoon to protest against coronavirus restrictions.\n",
      "The race at the top remains tight, with the three parties fighting a close battle for first place in the delayed municipal elections, set for 13 June.\n",
      "Improved support for the National Coalition Party bodes well for them in the municipal elections.\n",
      "\"At the moment, it is of paramount importance for the Centre that they get their potential supporters to the ballot box if the party wants a reasonable result in the municipal elections,\" Turja said.\n",
      "At 12.5 percent, support for the Centre is currently five percentage points lower than in the last municipal elections in 2017.\n",
      "Support for the Swedish People's Party has not shifted at all, although its leader, Justice Minister Anna-Maja Henriksson, was heavily criticised for postponing the municipal elections.\n",
      "According to Turja, the approach of the municipal elections is reflected in the fact that the popularity of groups outside Parliament increased slightly in the support survey.\n",
      "The country is at the height of the spread of seasonal street dust, but current coronavirus restrictions may be providing some relief from this annual predicament, according to Pia Anttila, a researcher at the Finnish Meteorological Institute (FMI).\n",
      "In March last year, the cruise ship industry halted most passenger traffic due to coronavirus restrictions imposed by the authorities.\n",
      "An international comparative study of 11 countries has found people in Finland were the most committed to complying with coronavirus restrictions.\n",
      "\"Citizens are prepared to comply with coronavirus restrictions that restrict their own fundamental rights if they are perceived to be effective.\n",
      "Helsinki Police suspect 46 people of violating restrictions on public gatherings during a demonstration against coronavirus restrictions held in the capital on 20 March.\n",
      "Due to coronavirus restrictions on travel and bars, Alko's position as an alcohol vendor was significantly improved, which was reflected in its revenues.\n",
      "\n",
      "Finland's government has prepared a draft plan for the gradual relaxing and removal of coronavirus restrictions, beginning this month with the end of partial shutdown.\n",
      "Plans for the gradual easing of coronavirus restrictions look to be on schedule, a government source has reportedly told Iltalehti.\n",
      "The group invited the public to join the event on its website, without any mention of coronavirus restrictions on group size.\n",
      "Last month Henriksson sailed through a confidence vote in Parliament, brought by opposition parties critical of her handling of the postponement of municipal elections from April to June.\n",
      "Police said in advance that they intended to disband a so-called \"Grand March\" against coronavirus restrictions planned for Saturday if an attempt was made to form a large group out of many small demonstrations in the procession.\n",
      "Hämeenlinna's Wanaja Festival is awaiting more detailed instructions on how coronavirus restrictions will be lifted.\n"
     ]
    }
   ],
   "source": [
    "for i, d in enumerate(docs):\n",
    "    for m in matcher(d):\n",
    "        print(d[m[1]].sent)"
   ]
  },
  {
   "cell_type": "markdown",
   "metadata": {},
   "source": [
    "## Ex 3\n",
    "\n",
    "Extract all syntactic phrases headed by the word `\"situation\"`.\n",
    "\n",
    "In a dependency tree, such phrase corresponds to the subtree containing all descendents of the token of interest. You can get it using the field `token.subtree`."
   ]
  },
  {
   "cell_type": "code",
   "execution_count": 6,
   "metadata": {},
   "outputs": [
    {
     "name": "stdout",
     "output_type": "stream",
     "text": [
      "[the, situation]\n",
      "[certain, situations, we, have, to, go, to, so, -, called, virgin, areas]\n",
      "[a, similar, situation]\n",
      "[the, prevailing, pandemic, situation, and, the, necessary, safety, arrangements]\n",
      "[the, examination, situation]\n",
      "[the, disease, situation]\n",
      "[the, situation, in, Estonia, ,, where, the, infection, rate, is, now, the, second, -, highest, in, the, continent, and, around, nine, times, higher, than, it, is, in, Finland]\n",
      "[the, worst, infection, situation, outside, of, the, Helsinki, region]\n",
      "[The, coronavirus, situation]\n",
      "[the, pandemic, situation]\n",
      "[the, situation, in, the, greater, Helsinki, and, Turku, regions]\n",
      "[Finland, 's, deteriorating, Covid, situation]\n",
      "[the, situation]\n",
      "[the, coronavirus, situation]\n",
      "[an, embarrassing, situation]\n",
      "[a, completely, everyday, situation]\n",
      "[certain, situations]\n",
      "[the, current, situation]\n",
      "[situations, where, a, passenger, does, not, provide, proof, of, illness, or, a, recent, coronavirus, test]\n",
      "[the, situation]\n",
      "[The, situation]\n",
      "[the, situation]\n",
      "[the, deteriorating, coronavirus, situation]\n",
      "[the, difficult, public, health, situation]\n",
      "[the, situation]\n",
      "[these, situations]\n",
      "[a, situation, in, which, the, police, have, to, interpret, the, rules, ,, or, one, in, which, police, have, to, interrogate, citizens, about, their, comings, and, goings]\n",
      "[difficult, situations, ,, unrest, or, even, civil, war]\n",
      "[the, situation]\n",
      "[the, situation]\n",
      "[the, worsening, situation]\n",
      "[the, situation]\n",
      "[25, threatening, situations, ,, including, an, incident, where, an, angry, motorist, attempted, to, run, over, one, of, the, city, ’s, parking, attendants]\n",
      "[a, conflict, situation]\n",
      "[a, particular, situation]\n",
      "[the, current, coronavirus, situation]\n",
      "[situation]\n",
      "[the, situation]\n",
      "[the, country, 's, worsening, coronavirus, situation]\n",
      "[the, situation]\n",
      "[The, worsened, financial, situation, of, the, elderly]\n",
      "[Situation, still, serious]\n",
      "[the, situation]\n",
      "[the, city, 's, worsening, epidemic, situation]\n",
      "[the, city, 's, overall, coronavirus, situation]\n",
      "[The, situation]\n",
      "[the, situation]\n",
      "[the, current, epidemic, situation]\n",
      "[The, situation]\n",
      "[similar, situations]\n",
      "[this, situation]\n",
      "[a, situation, companies, are, allowed, where, to, decide, their, own, tailor, -, made, solutions]\n",
      "[A, calm, situation]\n",
      "[the, situation, in, other, countries, ,, including, Ireland, and, Portugal, ,, where, a, relatively, calm, situation, got, out, of, control, very, quickly, and, endangered, health, care, capacity]\n",
      "[a, relatively, calm, situation]\n",
      "[The, pandemic, situation, in, the, Helsinki, metropolitan, area]\n",
      "[such, situations]\n",
      "[The, situation]\n",
      "[indoor, situations]\n",
      "[such, situations]\n",
      "[the, worst, epidemic, situation]\n",
      "[the, situation, caused, by, the, pandemic]\n",
      "[the, unemployment, situation]\n",
      "[their, own, financial, situation]\n",
      "[the, restaurant, restriction, situation]\n",
      "[the, pandemic, situation]\n",
      "[the, deteriorating, situation]\n",
      "[the, coronavirus, situation, in, the, area]\n",
      "[the, situation]\n",
      "[the, situation, in, Finland, 's, intensive, care, units]\n",
      "[The, situation]\n",
      "[an, exceptional, situation, for, us]\n",
      "[life, situations, or, stress, at, work]\n",
      "[the, situation]\n",
      "[a, positive, situation, in]\n",
      "[the, situation]\n",
      "[the, infection, situation, in, various, parts, of, the, country]\n",
      "[the, pandemic, situation]\n",
      "[the, globally, challenging, situation]\n",
      "[the, situation]\n",
      "[a, very, difficult, situation]\n",
      "[the, coronavirus, situation, at, a, Defence, Forces, barracks]\n",
      "[the, situation]\n",
      "[the, coronavirus, situation, at, a, garrison]\n",
      "[situations, like, the, current, coronavirus, pandemic, or, other, similar, crises]\n",
      "[the, situation]\n",
      "[the, Covid-19, situation]\n",
      "[an, embarrassing, situation]\n",
      "[the, situation]\n",
      "[a, new, situation]\n",
      "[the, situation, of, rising, numbers, itself]\n",
      "[the, situation]\n",
      "[the, Covid-19, situation]\n",
      "[the, situation, and, the, pace, of, vaccination, in, Finland, ,, Estonia, and, Sweden]\n",
      "[the, situation, with, these, workers]\n",
      "[the, epidemic, situation]\n",
      "[the, coronavirus, situation]\n",
      "[the, epidemic, situation]\n",
      "[the, epidemic, situation, in, neighbouring, countries]\n",
      "[the, virus, situation]\n",
      "[the, regional, situation]\n",
      "[this, situation]\n",
      "[situation]\n",
      "[The, situation]\n",
      "[the, unusual, situation]\n",
      "[a, rare, situation, that, does, n't, happen, every, day]\n",
      "[customer, -, facing, situations]\n",
      "[The, riskier, situations]\n",
      "[the, coronavirus, situation]\n",
      "[their, economic, and, employment, situations]\n"
     ]
    }
   ],
   "source": [
    "for d in docs:\n",
    "    for tok in d:\n",
    "        if tok.lemma_ == 'situation':\n",
    "            print(list(tok.subtree))"
   ]
  },
  {
   "cell_type": "markdown",
   "metadata": {},
   "source": [
    "# Homework"
   ]
  },
  {
   "cell_type": "markdown",
   "metadata": {},
   "source": [
    "## Ex 4 (5p.)\n",
    "\n",
    "Write a function `find_quotes(nlp, docs)` that identifies and attributes direct quotes in the text. A direct quote looks like this:\n",
    "\n",
    "\"*There is no simple answer,*\" **Matti Sarvimäki**, Assistant Professor of Economics at Aalto University **told** the paper.\n",
    "\n",
    "We recognize the following three identifying elements:\n",
    "* **proposition** - the text that is being quoted (e.g. \"There is no simple answer\"),\n",
    "* **author** - the person that is being quoted (\"Matti Sarvimäki\"),\n",
    "* **cue** - a verb indicating a speech act, e.g. \"told\".\n",
    "\n",
    "The function should output a list of triplets: `(author, cue, proposition)`, each being a `Tok` or `Span` object. You may use information gained from exercise 1 to manually create a list of speech act verbs (it does not need to be exhaustive, a couple of common examples are enough).\n",
    "\n",
    "3 points are given for a basic working version of the function. For full points, pay attention to the following details:\n",
    "* If a name is given in the form `FirstName LastName`, output a `Span` object containing them both as author. (1p.)\n",
    "* If the proposition ends with a quote character (`\"`), look for the matching character to find where it starts. It might be a different sentence! (1p.)\n",
    "\n",
    "You can restrict the solution to propositions enclosed in quotes and the speaker being named by name (rather than a pronoun)."
   ]
  },
  {
   "cell_type": "code",
   "execution_count": 252,
   "metadata": {},
   "outputs": [],
   "source": []
  },
  {
   "cell_type": "code",
   "execution_count": 253,
   "metadata": {},
   "outputs": [],
   "source": [
    "q = find_quotes(nlp, docs)"
   ]
  },
  {
   "cell_type": "code",
   "execution_count": 254,
   "metadata": {},
   "outputs": [
    {
     "name": "stdout",
     "output_type": "stream",
     "text": [
      "[(told, Hanna Nohynek, \"Thinking about it, it could probably be a way to increase the number of people protected, if the quantity of vaccines available in Finland is much less than promised,), (said, Puhakka, \"Oulu is a growing city and in certain situations we have to go to so-called virgin areas), (told, Puhakka, \"We believe that Oulu's forest nature conservation decisions compensate for the decisions that have to be made in different parts of the city, due to the city's natural growth)]\n"
     ]
    }
   ],
   "source": [
    "# This might not show *all* quotes. My solution is not perfect either.\n",
    "print(q[3])"
   ]
  },
  {
   "cell_type": "code",
   "execution_count": 255,
   "metadata": {},
   "outputs": [
    {
     "name": "stdout",
     "output_type": "stream",
     "text": [
      "[(said, Simola, \"My husband immediately said that it was a wolf), (told, Simola, \"It was a really touching, amazing moment. Seeing such a wild animal inside the Ring I beltway really made you rub your eyes. It was a rare situation that doesn't happen every day), (said, Simola, \"We've talked today about our relationship with wildlife and how even though the wolf may look nice, it is still an unpredictable wild animal that needs to be given its own space), (said, Hallamaa, \"The wolf has not growled or shown its teeth. On the contrary, it has apparently tried to escape from humans with its tail between its legs)]\n"
     ]
    }
   ],
   "source": [
    "print(q[207])"
   ]
  },
  {
   "cell_type": "markdown",
   "metadata": {},
   "source": [
    "# Further reading\n",
    "\n",
    "* https://spacy.io/usage/rule-based-matching\n",
    "* https://applied-language-technology.readthedocs.io/en/latest/notebooks/part_iii/02_pattern_matching.html"
   ]
  }
 ],
 "metadata": {
  "kernelspec": {
   "display_name": "Python 3",
   "language": "python",
   "name": "python3"
  },
  "language_info": {
   "codemirror_mode": {
    "name": "ipython",
    "version": 3
   },
   "file_extension": ".py",
   "mimetype": "text/x-python",
   "name": "python",
   "nbconvert_exporter": "python",
   "pygments_lexer": "ipython3",
   "version": "3.8.6"
  }
 },
 "nbformat": 4,
 "nbformat_minor": 4
}
