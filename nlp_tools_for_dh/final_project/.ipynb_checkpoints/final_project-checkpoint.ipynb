{
 "cells": [
  {
   "cell_type": "markdown",
   "id": "executive-marble",
   "metadata": {},
   "source": [
    "## NLP Tools for Digital Humanities Final Project\n",
    "\n",
    "# Explicit Content in the 2020 Wattys Award Winners Books"
   ]
  },
  {
   "cell_type": "markdown",
   "id": "arbitrary-spyware",
   "metadata": {},
   "source": [
    "### Getting the data\n",
    "<p>I used my own fork of Wattpad2Epub script. Wattpad2Epub allows you download Wattpad stories easily and save them in epub format.</p>\n",
    "<p>Then I needed to convert epub to txt, so I can process it with Python. I used Calibre for this task.</p>\n",
    "\n",
    "### Cleaning the data\n",
    "<p>Every book starts with Introduction containing synopsis, chapter list, and info about the book. I wanted as clean data as I could so I decided to delete these. Unfortunately, every book contains a bit different Introduction, so I had to go over them manually.</p>\n",
    "<p>I was not sure if I wanted to leave authors' notes in the books, then I decided to remove them, too. I had to remove them manually, too.</p>\n",
    "<p>Oops! This image does not follow our content guidelines. To continue publishing, please remove it or upload a different image.</p>"
   ]
  },
  {
   "cell_type": "markdown",
   "id": "alone-billion",
   "metadata": {},
   "source": [
    "<p>Read all files</p>"
   ]
  },
  {
   "cell_type": "code",
   "execution_count": null,
   "id": "collective-malta",
   "metadata": {},
   "outputs": [],
   "source": []
  }
 ],
 "metadata": {
  "kernelspec": {
   "display_name": "Python 3",
   "language": "python",
   "name": "python3"
  },
  "language_info": {
   "codemirror_mode": {
    "name": "ipython",
    "version": 3
   },
   "file_extension": ".py",
   "mimetype": "text/x-python",
   "name": "python",
   "nbconvert_exporter": "python",
   "pygments_lexer": "ipython3",
   "version": "3.8.6"
  }
 },
 "nbformat": 4,
 "nbformat_minor": 5
}
