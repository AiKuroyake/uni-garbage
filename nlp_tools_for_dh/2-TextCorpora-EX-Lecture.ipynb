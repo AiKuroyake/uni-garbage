{
 "cells": [
  {
   "cell_type": "markdown",
   "metadata": {},
   "source": [
    "## Exercise set 2: Text corpora \n",
    "\n",
    "In this exercise set we will practice how to download and handle text corpora. \n",
    "\n",
    "## Ex 1: Wikipedia and bag-of-words\n",
    "\n",
    "In this exercise, we will use Wikipedia API (Application programming interface) to fetch text and then practice bag-of-words analysis learned in the last exercise set. \n",
    "\n",
    "a) Install [Wikipedia-packet](https://stackabuse.com/getting-started-with-pythons-wikipedia-api/) using the instructions in the link.\n",
    "\n",
    "b) Next we will compare summary pages of Finnish cities. Below an example of fetching summary for Helsinki. Fetch the summaries for Turku and Tampere. "
   ]
  },
  {
   "cell_type": "code",
   "execution_count": 1,
   "metadata": {},
   "outputs": [
    {
     "data": {
      "text/plain": [
       "\"Helsinki ( HEL-sink-ee or  (listen) hel-SINK-ee; Finnish: [ˈhelsiŋki] (listen); Swedish: Helsingfors, Finland Swedish: [helsiŋˈforsː] (listen); Latin: Helsingia) is the capital, primate and most populous city of Finland. Located on the shore of the Gulf of Finland, it is the seat of the region of Uusimaa in southern Finland, and has a population of 657,674. The city's urban area has a population of 1,268,296, making it by far the most populous urban area in Finland as well as the country's most important center for politics, education, finance, culture, and research; while Tampere in the Pirkanmaa region, located 179 kilometres (111 mi) to the north from Helsinki, is the second largest urban area in Finland. Helsinki is located 80 kilometres (50 mi) north of Tallinn, Estonia, 400 km (250 mi) east of Stockholm, Sweden, and 300 km (190 mi) west of Saint Petersburg, Russia. It has close historical ties with these three cities.\\nTogether with the cities of Espoo, Vantaa, and Kauniainen, and surrounding commuter towns, Helsinki forms the Greater Helsinki metropolitan area, which has a population of over 1.5 million. Often considered to be Finland's only metropolis, it is the world's northernmost metro area with over one million people as well as the northernmost capital of an EU member state. After Stockholm and Oslo, Helsinki is the third largest municipality in the Nordic countries. Finnish and Swedish are both official languages. The city is served by the international Helsinki Airport, located in the neighboring city of Vantaa, with frequent service to many destinations in Europe and Asia.\\nHelsinki was the World Design Capital for 2012, the venue for the 1952 Summer Olympics, and the host of the 52nd Eurovision Song Contest in 2007.\\nHelsinki has one of the world's highest urban standards of living. In 2011, the British magazine Monocle ranked Helsinki the world's most liveable city in its liveable cities index. In the Economist Intelligence Unit's 2016 liveability survey, Helsinki was ranked ninth among 140 cities.\""
      ]
     },
     "execution_count": 1,
     "metadata": {},
     "output_type": "execute_result"
    }
   ],
   "source": [
    "import wikipedia\n",
    "\n",
    "summary_helsinki = wikipedia.summary(\"Helsinki\")\n",
    "summary_helsinki\n",
    "\n"
   ]
  },
  {
   "cell_type": "markdown",
   "metadata": {},
   "source": [
    "c) Next tokenize all texts into sentences and create bag-of-words presentations in same way than in the last exercise set with [Sentencizer](https://spacy.io/api/sentencizer). "
   ]
  },
  {
   "cell_type": "code",
   "execution_count": 3,
   "metadata": {},
   "outputs": [],
   "source": [
    "from nltk.tokenize import sent_tokenize\n",
    "from sklearn.feature_extraction.text import CountVectorizer\n",
    "\n",
    "def bow(text):\n",
    "    # Write here\n",
    "    return documentbow, feature_names \n",
    "\n",
    "b_helsinki, f_helsinki = bow(summary_helsinki)\n",
    "b_tampere, f_tampere = bow(summary_tampere)\n",
    "b_turku, f_turku = bow(summary_turku)"
   ]
  },
  {
   "cell_type": "markdown",
   "metadata": {},
   "source": [
    "Next we will create dictionaries in the form {'word1': count1, 'word2': count2 ...  } to access easily frequencies of each word."
   ]
  },
  {
   "cell_type": "code",
   "execution_count": 4,
   "metadata": {},
   "outputs": [],
   "source": [
    "dict_helsinki = dict(zip(f_helsinki, b_helsinki))\n",
    "dict_tampere = dict(zip(f_tampere, b_tampere))\n",
    "dict_turku = dict(zip(f_turku, b_turku))"
   ]
  },
  {
   "cell_type": "markdown",
   "metadata": {},
   "source": [
    "d) Sort all three dictionaries to find out the most occurring words in each of them. Google something like \"python sort dictionary\" to find the correct function. What differences and similarities you see in the resulting word counts? "
   ]
  },
  {
   "cell_type": "code",
   "execution_count": null,
   "metadata": {},
   "outputs": [],
   "source": [
    "\n"
   ]
  },
  {
   "cell_type": "markdown",
   "metadata": {},
   "source": [
    "## Ex2: Wikipedia and N-grams\n",
    "\n",
    "a) Create a ngram list for the example text"
   ]
  },
  {
   "cell_type": "code",
   "execution_count": 4,
   "metadata": {},
   "outputs": [],
   "source": [
    "import spacy\n",
    "nlp = spacy.load(\"en_core_web_sm\")\n",
    "\n",
    "def word_tokenize(data):\n",
    "    doc = nlp(data)\n",
    "    return list(map(lambda x: x.text, doc))\n",
    "\n",
    "def extract_ngrams(data, num):\n",
    "    words = word_tokenize(data)\n",
    "    ngram_list = []\n",
    "    # Write code in here, the result list should contain ngrams as string like \"This is\", \"is an\" etc.\n",
    "    \n",
    "    return ngram_list\n",
    "\n",
    "\n",
    "example_text = \"This is an example text\"\n",
    "ngram = extract_ngrams(example_text, 2)"
   ]
  },
  {
   "cell_type": "markdown",
   "metadata": {},
   "source": [
    "\n",
    "b) Create 2-gram list for the combination of all summary texts. "
   ]
  },
  {
   "cell_type": "code",
   "execution_count": 5,
   "metadata": {},
   "outputs": [
    {
     "ename": "NameError",
     "evalue": "name 'summary_helsinki' is not defined",
     "output_type": "error",
     "traceback": [
      "\u001b[0;31m---------------------------------------------------------------------------\u001b[0m",
      "\u001b[0;31mNameError\u001b[0m                                 Traceback (most recent call last)",
      "\u001b[0;32m<ipython-input-5-1bcec7ae4e42>\u001b[0m in \u001b[0;36m<module>\u001b[0;34m\u001b[0m\n\u001b[0;32m----> 1\u001b[0;31m \u001b[0mall_summaries\u001b[0m \u001b[0;34m=\u001b[0m \u001b[0msummary_helsinki\u001b[0m \u001b[0;34m+\u001b[0m \u001b[0msummary_turku\u001b[0m \u001b[0;34m+\u001b[0m \u001b[0msummary_tampere\u001b[0m\u001b[0;34m\u001b[0m\u001b[0;34m\u001b[0m\u001b[0m\n\u001b[0m\u001b[1;32m      2\u001b[0m \u001b[0;34m\u001b[0m\u001b[0m\n\u001b[1;32m      3\u001b[0m \u001b[0;34m\u001b[0m\u001b[0m\n\u001b[1;32m      4\u001b[0m \u001b[0;34m\u001b[0m\u001b[0m\n\u001b[1;32m      5\u001b[0m \u001b[0mngram\u001b[0m \u001b[0;34m=\u001b[0m \u001b[0mextract_ngrams\u001b[0m\u001b[0;34m(\u001b[0m\u001b[0mall_summaries\u001b[0m\u001b[0;34m,\u001b[0m \u001b[0;36m2\u001b[0m\u001b[0;34m)\u001b[0m\u001b[0;34m\u001b[0m\u001b[0;34m\u001b[0m\u001b[0m\n",
      "\u001b[0;31mNameError\u001b[0m: name 'summary_helsinki' is not defined"
     ]
    }
   ],
   "source": [
    "all_summaries = summary_helsinki + summary_turku + summary_tampere\n",
    " \n",
    "ngram = extract_ngrams(all_summaries, 2)\n",
    "print(\"2-gram: \", ngram)"
   ]
  },
  {
   "cell_type": "markdown",
   "metadata": {},
   "source": [
    "b) Calculate 2-gram occurring most often. [Python Counter](https://www.journaldev.com/20806/python-counter-python-collections-counter) object is useful for this purpose.  \n",
    "\n"
   ]
  },
  {
   "cell_type": "code",
   "execution_count": 6,
   "metadata": {},
   "outputs": [],
   "source": [
    "from collections import Counter\n"
   ]
  }
 ],
 "metadata": {
  "kernelspec": {
   "display_name": "Python 3",
   "language": "python",
   "name": "python3"
  },
  "language_info": {
   "codemirror_mode": {
    "name": "ipython",
    "version": 3
   },
   "file_extension": ".py",
   "mimetype": "text/x-python",
   "name": "python",
   "nbconvert_exporter": "python",
   "pygments_lexer": "ipython3",
   "version": "3.8.3"
  }
 },
 "nbformat": 4,
 "nbformat_minor": 4
}
